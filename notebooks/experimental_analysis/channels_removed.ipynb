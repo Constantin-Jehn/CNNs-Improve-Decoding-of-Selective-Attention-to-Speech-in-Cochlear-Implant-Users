{
 "cells": [
  {
   "cell_type": "code",
   "execution_count": 3,
   "metadata": {},
   "outputs": [],
   "source": [
    "import h5py\n",
    "import numpy as np\n",
    "import git\n",
    "import os"
   ]
  },
  {
   "cell_type": "code",
   "execution_count": 5,
   "metadata": {},
   "outputs": [],
   "source": [
    "base_dir = git.Repo('.', search_parent_directories=True).working_tree_dir\n",
    "h5_dir = os.path.join(base_dir, 'data', 'processed', 'ci_attention_final_l_1,1_h_32,50_out_125_130_incl_ica.hdf5')"
   ]
  },
  {
   "cell_type": "code",
   "execution_count": 13,
   "metadata": {},
   "outputs": [],
   "source": [
    "subjects = list(range(102,115))\n",
    "subjects = subjects + list(range(116,117))\n",
    "subjects = subjects + list(range(118,126))\n",
    "\n"
   ]
  },
  {
   "cell_type": "code",
   "execution_count": 17,
   "metadata": {},
   "outputs": [],
   "source": [
    "taken_out_totoal = []\n",
    "with h5py.File(h5_dir,'r') as f:\n",
    "    for subj in subjects:\n",
    "        taken_out_path = f'eeg/{str(subj)}/taken_out_indices'\n",
    "        taken_out = f[taken_out_path][:]\n",
    "        taken_out_totoal.append(taken_out)"
   ]
  },
  {
   "cell_type": "code",
   "execution_count": 22,
   "metadata": {},
   "outputs": [
    {
     "name": "stdout",
     "output_type": "stream",
     "text": [
      "[2, 2, 1, 1, 1, 2, 2, 2, 2, 2, 0, 2, 2, 4, 3, 1, 1, 1, 1, 2, 2, 2]\n",
      "Mean: 1.7272727272727273\n",
      "Median: 2.0\n"
     ]
    }
   ],
   "source": [
    "n_taken_out_per_subj = [len(t) for t in taken_out_totoal]\n",
    "print(n_taken_out_per_subj)\n",
    "print(f'Mean: {np.mean(n_taken_out_per_subj)}')\n",
    "print(f'Median: {np.median(n_taken_out_per_subj)}')"
   ]
  }
 ],
 "metadata": {
  "kernelspec": {
   "display_name": "model_dev_aad_semeco",
   "language": "python",
   "name": "python3"
  },
  "language_info": {
   "codemirror_mode": {
    "name": "ipython",
    "version": 3
   },
   "file_extension": ".py",
   "mimetype": "text/x-python",
   "name": "python",
   "nbconvert_exporter": "python",
   "pygments_lexer": "ipython3",
   "version": "3.11.4"
  }
 },
 "nbformat": 4,
 "nbformat_minor": 2
}
